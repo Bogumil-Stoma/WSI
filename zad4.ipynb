{
  "cells": [
    {
      "cell_type": "markdown",
      "source": [
        "#Zadanie 4 (7 pkt)\n",
        "Celem zadania jest zaimplementowanie algorytmu drzewa decyzyjnego ID3 dla zadania klasyfikacji. Trening i test należy przeprowadzić dla zbioru Iris. Proszę przeprowadzić eksperymenty najpierw dla DOKŁADNIE takiego podziału zbioru testowego i treningowego jak umieszczony poniżej. W dalszej części należy przeprowadzić analizę działania drzewa dla różnych wartości parametrów. Proszę korzystać z przygotowanego szkieletu programu, oczywiście można go modyfikować według potrzeb. Wszelkie elementy szkieletu zostaną wyjaśnione na zajęciach.\n",
        "\n",
        "* Implementacja funkcji entropii - **0.5 pkt**\n",
        "* Implementacja funkcji entropii zbioru - **0.5 pkt**\n",
        "* Implementacja funkcji information gain - **0.5 pkt**\n",
        "* Zbudowanie poprawnie działającego drzewa klasyfikacyjnego i przetestowanie go na wspomnianym wcześniej zbiorze testowym. Jeśli w liściu występuje kilka różnych klas, decyzją jest klasa większościowa. Policzenie accuracy i wypisanie parami klasy rzeczywistej i predykcji. - **4 pkt**\n",
        "* Przeprowadzenie eksperymentów dla różnych głębokości drzew i podziałów zbioru treningowego i testowego (zmiana wartości argumentu test_size oraz usunięcie random_state). W tym przypadku dla każdego eksperymentu należy wykonać kilka uruchomień programu i wypisać dla każdego uruchomienia accuracy. - **1.5 pkt**"
      ],
      "metadata": {
        "id": "cpar5LziY_-0"
      }
    },
    {
      "cell_type": "code",
      "source": [
        "from sklearn.datasets import load_iris\n",
        "from sklearn.model_selection import train_test_split\n",
        "import math\n",
        "from collections import Counter\n",
        "import numpy as np\n",
        "import matplotlib.pyplot as plt\n",
        "\n",
        "\n",
        "iris = load_iris()\n",
        "\n",
        "x = iris.data\n",
        "y = iris.target\n",
        "\n",
        "x_train, x_test, y_train, y_test = train_test_split(x, y, test_size=0.1, random_state=123)"
      ],
      "outputs": [],
      "execution_count": 2,
      "metadata": {
        "id": "XNc-O3npA-J9"
      }
    },
    {
      "cell_type": "code",
      "source": [
        "class Group:\n",
        "    def __init__(self, group_classes: np.ndarray):\n",
        "        self.group_classes: np.ndarray = group_classes\n",
        "        self.entropy = self.group_entropy()\n",
        "        self.size = group_classes.size\n",
        "\n",
        "    def __len__(self):\n",
        "        return self.group_classes.size\n",
        "\n",
        "    def group_entropy(self):\n",
        "        sigma = 0\n",
        "        for g_class in np.unique(self.group_classes):\n",
        "            frequency = sum(self.group_classes == g_class)/len(self)\n",
        "            sigma -= frequency * math.log(frequency)\n",
        "        return sigma\n",
        "\n",
        "\n",
        "\n",
        "class Node:\n",
        "    def __init__(self, split_feature, split_val, depth=None, child_node_a=None, child_node_b=None, val=None):\n",
        "        self.split_feature = split_feature\n",
        "        self.split_val = split_val\n",
        "        self.depth = depth\n",
        "        self.child_node_a: Node = child_node_a\n",
        "        self.child_node_b: Node = child_node_b\n",
        "        self.val = val\n",
        "\n",
        "    def predict(self, data):\n",
        "        if self.child_node_a is None and self.child_node_b is None:\n",
        "            return self.val\n",
        "\n",
        "        if data[self.split_feature] < self.split_val:\n",
        "            return self.child_node_a.predict(data)\n",
        "\n",
        "        return self.child_node_b.predict(data)\n",
        "\n",
        "\n",
        "\n",
        "class DecisionTreeClassifier(object):\n",
        "    def __init__(self, max_depth):\n",
        "        self.depth = 0\n",
        "        self.max_depth = max_depth\n",
        "        self.tree = None\n",
        "\n",
        "    def get_information_gain(self, parent_group: Group, child_group_a: Group, child_group_b: Group): # infGain\n",
        "        entropyA = child_group_a.entropy\n",
        "        entropyB = child_group_b.entropy\n",
        "        weightA = child_group_a.size/parent_group.size\n",
        "        weightB = child_group_b.size/parent_group.size\n",
        "        return parent_group.entropy - (weightA * entropyA + weightB * entropyB)\n",
        "\n",
        "    def get_best_feature_split(self, feature_values, classes):\n",
        "        max_inf_gain = best_split = 0\n",
        "        for feature in feature_values:\n",
        "            groupA = Group(classes[feature_values<feature])\n",
        "            groupB = Group(classes[feature_values>=feature])\n",
        "            inf_gain = self.get_information_gain(Group(classes), groupA, groupB)\n",
        "            if inf_gain > max_inf_gain:\n",
        "                max_inf_gain = inf_gain\n",
        "                best_split = feature\n",
        "        return max_inf_gain, best_split\n",
        "\n",
        "\n",
        "\n",
        "    def get_best_split(self, data, classes):\n",
        "        max_feature = best_index = best_split = 0\n",
        "        best_index = None\n",
        "        for index in range(len(data[0])):\n",
        "            feature_values = data[:, index]\n",
        "            feature, split = self.get_best_feature_split(feature_values, classes)\n",
        "            if feature > max_feature:\n",
        "                max_feature = feature\n",
        "                best_index = index\n",
        "                best_split = split\n",
        "        return max_feature, best_index, best_split\n",
        "\n",
        "    def build_tree(self, data, classes, depth=0):\n",
        "        if len(set(classes)) == 1 or depth == self.max_depth:\n",
        "            data = Counter(classes)\n",
        "\n",
        "            return Node(None, None, depth, None, None, data.most_common(1)[0][0])\n",
        "\n",
        "        _, index, split = self.get_best_split(data, classes)\n",
        "        if index == None:\n",
        "            data = Counter(classes)\n",
        "            return Node(None, None, depth, None, None, data.most_common(1)[0][0])\n",
        "\n",
        "        left_cond = data[:,index] < split\n",
        "        right_cond = data[:,index] >= split\n",
        "        left_data, left_classes = data[left_cond], classes[left_cond]\n",
        "        right_data, right_classes = data[right_cond], classes[right_cond]\n",
        "\n",
        "        childA = self.build_tree(left_data, left_classes, depth+1)\n",
        "        childB = self.build_tree(right_data, right_classes, depth+1)\n",
        "\n",
        "\n",
        "        parent = Node(index, split, depth, childA, childB, None)\n",
        "        if depth == 0:\n",
        "\n",
        "            self.tree = parent\n",
        "        return parent\n",
        "\n",
        "    def predict(self, data):\n",
        "        return self.tree.predict(data)"
      ],
      "outputs": [],
      "execution_count": 3,
      "metadata": {
        "id": "fBh2tfQ44u5k"
      }
    },
    {
      "cell_type": "code",
      "source": [
        "def build_and_print(depth, test_size, v = 1):\n",
        "    x_train, x_test, y_train, y_test = train_test_split(x, y, test_size=test_size)\n",
        "    dc = DecisionTreeClassifier(depth)\n",
        "    dc.build_tree(x_train, y_train)\n",
        "    res = 0\n",
        "    for sample, gt in zip(x_test, y_test):\n",
        "        prediction = dc.predict(sample)\n",
        "        if prediction == gt:\n",
        "            res +=1\n",
        "    res = res/len(y_test)\n",
        "    if v:\n",
        "        print(f'Result = {res:.2};\\twhere depth = {depth},\\ttest size = {test_size}')\n",
        "    return res\n"
      ],
      "outputs": [],
      "execution_count": 4,
      "metadata": {}
    },
    {
      "cell_type": "markdown",
      "source": [
        "# depth = 1\n"
      ],
      "metadata": {}
    },
    {
      "cell_type": "code",
      "source": [
        "for _ in range(4):\n",
        "    build_and_print(1,0.1)"
      ],
      "outputs": [
        {
          "output_type": "stream",
          "name": "stdout",
          "text": "Result = 0.47;\twhere depth = 1,\ttest size = 0.1\nResult = 0.6;\twhere depth = 1,\ttest size = 0.1\nResult = 0.53;\twhere depth = 1,\ttest size = 0.1\nResult = 0.73;\twhere depth = 1,\ttest size = 0.1\n"
        }
      ],
      "execution_count": 19,
      "metadata": {}
    },
    {
      "cell_type": "code",
      "source": [
        "for _ in range(4):\n",
        "    build_and_print(1, 0.5)"
      ],
      "outputs": [
        {
          "output_type": "stream",
          "name": "stdout",
          "text": "Result = 0.61;\twhere depth = 1,\ttest size = 0.5\nResult = 0.63;\twhere depth = 1,\ttest size = 0.5\nResult = 0.69;\twhere depth = 1,\ttest size = 0.5\nResult = 0.64;\twhere depth = 1,\ttest size = 0.5\n"
        }
      ],
      "execution_count": 6,
      "metadata": {}
    },
    {
      "cell_type": "code",
      "source": [
        "for _ in range(4):\n",
        "    build_and_print(1, 0.8)"
      ],
      "outputs": [
        {
          "output_type": "stream",
          "name": "stdout",
          "text": "Result = 0.64;\twhere depth = 1,\ttest size = 0.8\nResult = 0.59;\twhere depth = 1,\ttest size = 0.8\nResult = 0.66;\twhere depth = 1,\ttest size = 0.8\nResult = 0.66;\twhere depth = 1,\ttest size = 0.8\n"
        }
      ],
      "execution_count": 7,
      "metadata": {}
    },
    {
      "cell_type": "markdown",
      "source": [
        "# depth = 2"
      ],
      "metadata": {}
    },
    {
      "cell_type": "code",
      "source": [
        "for _ in range(4):\n",
        "    build_and_print(2, 0.1)"
      ],
      "outputs": [
        {
          "output_type": "stream",
          "name": "stdout",
          "text": "Result = 0.93;\twhere depth = 2,\ttest size = 0.1\nResult = 0.93;\twhere depth = 2,\ttest size = 0.1\nResult = 1.0;\twhere depth = 2,\ttest size = 0.1\nResult = 0.93;\twhere depth = 2,\ttest size = 0.1\n"
        }
      ],
      "execution_count": 8,
      "metadata": {}
    },
    {
      "cell_type": "code",
      "source": [
        "for _ in range(4):\n",
        "    build_and_print(2, 0.5)"
      ],
      "outputs": [
        {
          "output_type": "stream",
          "name": "stdout",
          "text": "Result = 0.95;\twhere depth = 2,\ttest size = 0.5\nResult = 0.95;\twhere depth = 2,\ttest size = 0.5\nResult = 0.91;\twhere depth = 2,\ttest size = 0.5\nResult = 0.93;\twhere depth = 2,\ttest size = 0.5\n"
        }
      ],
      "execution_count": 9,
      "metadata": {}
    },
    {
      "cell_type": "code",
      "source": [
        "for _ in range(4):\n",
        "    build_and_print(2, 0.8)"
      ],
      "outputs": [
        {
          "output_type": "stream",
          "name": "stdout",
          "text": "Result = 0.94;\twhere depth = 2,\ttest size = 0.8\nResult = 0.94;\twhere depth = 2,\ttest size = 0.8\nResult = 0.82;\twhere depth = 2,\ttest size = 0.8\nResult = 0.94;\twhere depth = 2,\ttest size = 0.8\n"
        }
      ],
      "execution_count": 10,
      "metadata": {}
    },
    {
      "cell_type": "markdown",
      "source": [
        "# depth = 3"
      ],
      "metadata": {}
    },
    {
      "cell_type": "code",
      "source": [
        "for _ in range(4):\n",
        "    build_and_print(3, 0.1)"
      ],
      "outputs": [
        {
          "output_type": "stream",
          "name": "stdout",
          "text": "Result = 0.93;\twhere depth = 3,\ttest size = 0.1\nResult = 1.0;\twhere depth = 3,\ttest size = 0.1\nResult = 0.87;\twhere depth = 3,\ttest size = 0.1\nResult = 1.0;\twhere depth = 3,\ttest size = 0.1\n"
        }
      ],
      "execution_count": 11,
      "metadata": {}
    },
    {
      "cell_type": "code",
      "source": [
        "for _ in range(4):\n",
        "    build_and_print(3, 0.5)"
      ],
      "outputs": [
        {
          "output_type": "stream",
          "name": "stdout",
          "text": "Result = 0.99;\twhere depth = 3,\ttest size = 0.5\nResult = 0.95;\twhere depth = 3,\ttest size = 0.5\nResult = 0.95;\twhere depth = 3,\ttest size = 0.5\nResult = 0.92;\twhere depth = 3,\ttest size = 0.5\n"
        }
      ],
      "execution_count": 12,
      "metadata": {}
    },
    {
      "cell_type": "code",
      "source": [
        "for _ in range(4):\n",
        "    build_and_print(3, 0.8)"
      ],
      "outputs": [
        {
          "output_type": "stream",
          "name": "stdout",
          "text": "Result = 0.94;\twhere depth = 3,\ttest size = 0.8\nResult = 0.95;\twhere depth = 3,\ttest size = 0.8\nResult = 0.94;\twhere depth = 3,\ttest size = 0.8\nResult = 0.95;\twhere depth = 3,\ttest size = 0.8\n"
        }
      ],
      "execution_count": 13,
      "metadata": {}
    },
    {
      "cell_type": "code",
      "source": [
        "for _ in range(4):\n",
        "    build_and_print(4, 0.8)"
      ],
      "outputs": [
        {
          "output_type": "stream",
          "name": "stdout",
          "text": "Result = 0.91;\twhere depth = 4,\ttest size = 0.8\nResult = 0.82;\twhere depth = 4,\ttest size = 0.8\nResult = 0.97;\twhere depth = 4,\ttest size = 0.8\nResult = 0.96;\twhere depth = 4,\ttest size = 0.8\n"
        }
      ],
      "execution_count": 14,
      "metadata": {}
    },
    {
      "cell_type": "code",
      "source": [
        "for _ in range(4):\n",
        "    build_and_print(5, 0.8)"
      ],
      "outputs": [
        {
          "output_type": "stream",
          "name": "stdout",
          "text": "Result = 0.94;\twhere depth = 5,\ttest size = 0.8\nResult = 0.93;\twhere depth = 5,\ttest size = 0.8\nResult = 0.9;\twhere depth = 5,\ttest size = 0.8\nResult = 0.97;\twhere depth = 5,\ttest size = 0.8\n"
        }
      ],
      "execution_count": 15,
      "metadata": {}
    },
    {
      "cell_type": "markdown",
      "source": [
        "# normal test from exercise"
      ],
      "metadata": {}
    },
    {
      "cell_type": "code",
      "source": [
        "x_train, x_test, y_train, y_test = train_test_split(x, y, test_size=0.1, random_state=123)\n",
        "\n",
        "dc = DecisionTreeClassifier(3)\n",
        "dc.build_tree(x_train, y_train)\n",
        "res = 0\n",
        "for sample, gt in zip(x_test, y_test):\n",
        "\n",
        "    prediction = dc.predict(sample)\n",
        "    print(f'Prediction = {prediction}, real value = {gt}')\n",
        "    if prediction == gt:\n",
        "        res +=1\n",
        "print(res/len(y_test))\n"
      ],
      "outputs": [
        {
          "output_type": "stream",
          "name": "stdout",
          "text": "Prediction = 2, real value = 1\nPrediction = 2, real value = 2\nPrediction = 2, real value = 2\nPrediction = 1, real value = 1\nPrediction = 0, real value = 0\nPrediction = 2, real value = 2\nPrediction = 1, real value = 1\nPrediction = 0, real value = 0\nPrediction = 0, real value = 0\nPrediction = 1, real value = 1\nPrediction = 2, real value = 2\nPrediction = 0, real value = 0\nPrediction = 1, real value = 1\nPrediction = 2, real value = 2\nPrediction = 2, real value = 2\n0.9333333333333333\n"
        }
      ],
      "execution_count": 12,
      "metadata": {}
    },
    {
      "cell_type": "markdown",
      "source": [
        "# plots depth 1 to 5"
      ],
      "metadata": {}
    },
    {
      "cell_type": "code",
      "source": [
        "\n",
        "x_values = np.arange(0.1, 1.0, 0.1)\n",
        "\n",
        "\n",
        "DEPTH = 5\n",
        "REPS = 3\n",
        "\n",
        "y_values_list =  [[] for _ in range(DEPTH)]\n",
        "\n",
        "for depth in range(1, DEPTH+1):\n",
        "    for test_size in x_values:\n",
        "        res = 0\n",
        "        for _ in range(REPS):\n",
        "            res += build_and_print(depth, test_size, 0)\n",
        "        res /= REPS\n",
        "        y_values_list[depth-1].append(res)\n",
        "\n",
        "\n",
        "for depth, y_values in enumerate(y_values_list):\n",
        "    plt.plot(x_values, y_values, label=f'Depth {depth+1}')\n",
        "\n",
        "\n",
        "plt.xlabel('Test size')\n",
        "plt.ylabel('Accuracy')\n",
        "plt.title('ID3')\n",
        "\n",
        "plt.legend()\n",
        "plt.ylim(0, 1)\n",
        "plt.show()"
      ],
      "outputs": [
        {
          "output_type": "display_data",
          "data": {
            "image/png": "[encoded data removed]",
            "text/plain": "<Figure size 640x480 with 1 Axes>"
          },
          "metadata": {}
        }
      ],
      "execution_count": 28,
      "metadata": {}
    },
    {
      "cell_type": "markdown",
      "source": [
        "# plots depth 10 to 50, step 10"
      ],
      "metadata": {}
    },
    {
      "cell_type": "code",
      "source": [
        "x_values = np.arange(0.1, 1.0, 0.1)\n",
        "\n",
        "DEPTH = 5\n",
        "REPS = 3\n",
        "\n",
        "y_values_list =  [[] for _ in range(DEPTH)]\n",
        "\n",
        "for depth in range(1, DEPTH+1):\n",
        "    for test_size in x_values:\n",
        "        res = 0\n",
        "        for _ in range(REPS):\n",
        "            res += build_and_print(depth*10, test_size, 0)\n",
        "        res /= REPS\n",
        "        y_values_list[depth-1].append(res)\n",
        "\n",
        "\n",
        "for depth, y_values in enumerate(y_values_list):\n",
        "    plt.plot(x_values, y_values, label=f'Depth {(depth+1)*10}')\n",
        "\n",
        "plt.xlabel('Test size')\n",
        "plt.ylabel('Accuracy')\n",
        "plt.title('ID3')\n",
        "plt.ylim(0, 1)\n",
        "plt.legend()\n",
        "\n",
        "plt.show()"
      ],
      "outputs": [
        {
          "output_type": "display_data",
          "data": {
            "image/png": "[encoded data removed]",
            "text/plain": "<Figure size 640x480 with 1 Axes>"
          },
          "metadata": {}
        }
      ],
      "execution_count": 27,
      "metadata": {}
    }
  ],
  "metadata": {
    "colab": {
      "provenance": []
    },
    "kernelspec": {
      "display_name": "Python 3",
      "name": "python3"
    },
    "language_info": {
      "codemirror_mode": {
        "name": "ipython",
        "version": 3
      },
      "file_extension": ".py",
      "mimetype": "text/x-python",
      "name": "python",
      "nbconvert_exporter": "python",
      "pygments_lexer": "ipython3",
      "version": "3.11.0"
    },
    "nteract": {
      "version": "nteract-front-end@1.0.0"
    }
  },
  "nbformat": 4,
  "nbformat_minor": 0
}