{
  "cells": [
    {
      "cell_type": "markdown",
      "source": [
        "# Zadanie 5\n",
        "\n",
        "\n",
        "Celem ćwiczenia jest implementacja perceptronu wielowarstwowego oraz wybranego algorytmu optymalizacji gradientowej z algorytmem propagacji wstecznej.\n",
        "\n",
        "Następnie należy wytrenować perceptron wielowarstwowy do klasyfikacji zbioru danych [MNIST](http://yann.lecun.com/exdb/mnist/). Zbiór MNIST dostępny jest w pakiecie `scikit-learn`.\n",
        "\n",
        "Punktacja:\n",
        "1. Implementacja propagacji do przodu (`forward`) [1 pkt]\n",
        "2. Implementacja wstecznej propagacji (zademonstrowana na bramce XOR) (`backward`) [2 pkt]\n",
        "3. Przeprowadzenie eksperymentów na zbiorze MNIST, w tym:\n",
        "    1. Porównanie co najmniej dwóch architektur sieci [1 pkt]\n",
        "    2. Przetestowanie każdej architektury na conajmniej 3 ziarnach [1 pkt]\n",
        "    3. Wnioski 1.[5 pkt]\n",
        "4. Jakość kodu 0.[5 pkt]\n",
        "\n",
        "Polecane źródła - teoria + intuicja:\n",
        "1. [Karpathy, CS231n Winter 2016: Lecture 4: Backpropagation, Neural Networks 1](https://www.youtube.com/watch?v=i94OvYb6noo&ab_channel=AndrejKarpathy)\n",
        "2. [3 Blude one Brown, Backpropagation calculus | Chapter 4, Deep learning\n",
        "](https://www.youtube.com/watch?v=tIeHLnjs5U8&t=4s&ab_channel=3Blue1Brown)\n"
      ],
      "metadata": {
        "collapsed": false
      }
    },
    {
      "cell_type": "code",
      "source": [
        "from abc import abstractmethod, ABC\n",
        "from typing import List\n",
        "import numpy as np\n",
        "import random\n",
        "from matplotlib import pyplot as plt\n",
        "import time\n"
      ],
      "outputs": [],
      "execution_count": 1,
      "metadata": {
        "collapsed": false
      }
    },
    {
      "cell_type": "code",
      "source": [
        "from pprint import pprint\n",
        "\n",
        "class Layer(ABC):\n",
        "    \"\"\"Basic building block of the Neural Network\"\"\"\n",
        "\n",
        "    def __init__(self) -> None:\n",
        "        self._learning_rate = 0.01\n",
        "\n",
        "    @abstractmethod\n",
        "    def forward(self, x:np.ndarray)->np.ndarray:\n",
        "        \"\"\"Forward propagation of x through layer\"\"\"\n",
        "        pass\n",
        "\n",
        "    @abstractmethod\n",
        "    def backward(self, output_error_derivative) ->np.ndarray:\n",
        "        \"\"\"Backward propagation of output_error_derivative through layer\"\"\"\n",
        "        pass\n",
        "\n",
        "    @property\n",
        "    def learning_rate(self):\n",
        "        return self._learning_rate\n",
        "\n",
        "    @learning_rate.setter\n",
        "    def learning_rate(self, learning_rate):\n",
        "        assert learning_rate < 1, f\"Given learning_rate={learning_rate} is larger than 1\"\n",
        "        assert learning_rate > 0, f\"Given learning_rate={learning_rate} is smaller than 0\"\n",
        "        self._learning_rate = learning_rate\n",
        "\n",
        "class FullyConnected(Layer):\n",
        "    def __init__(self, input_size:int, output_size:int, weights=None, multiplier=None) -> None:\n",
        "        super().__init__()\n",
        "        self.input_size = input_size\n",
        "        self.output_size = output_size\n",
        "\n",
        "        if multiplier is None:\n",
        "            multiplier = 8\n",
        "        if weights is None:\n",
        "            self.weights = np.random.rand(self.input_size, self.output_size)\n",
        "        else:\n",
        "            self.weights = weights\n",
        "\n",
        "        self.weights = (np.random.rand(self.input_size, self.output_size) - 0.5) / multiplier\n",
        "        self.bias = (np.ones((1, output_size)) - 0.5) / multiplier\n",
        "\n",
        "\n",
        "    def forward(self, x:np.ndarray)->np.ndarray:\n",
        "        self.input = x\n",
        "        self.output = np.matmul(x, self.weights) + self.bias\n",
        "\n",
        "        return self.output\n",
        "\n",
        "    def backward(self, output_error_derivative)->np.ndarray:\n",
        "        self.dweights = np.matmul(self.input.T, output_error_derivative)/output_error_derivative.shape[1]\n",
        "        self.dbias = np.mean(output_error_derivative, axis=0)/output_error_derivative.shape[1]\n",
        "        self.weights -= self.dweights *self.learning_rate\n",
        "        self.bias -= self.dbias *self.learning_rate\n",
        "\n",
        "        return np.matmul(output_error_derivative, self.weights.T)\n",
        "\n",
        "class Tanh(Layer):\n",
        "    def __init__(self) -> None:\n",
        "        super().__init__()\n",
        "\n",
        "    def forward(self, x:np.ndarray)->np.ndarray:\n",
        "        self.input = x\n",
        "        self.output = np.tanh(x)\n",
        "\n",
        "        return self.output\n",
        "\n",
        "    def backward(self, output_error_derivative)->np.ndarray:\n",
        "\n",
        "        input_gradient = np.multiply(output_error_derivative, (1 - np.tanh(self.input)**2))\n",
        "\n",
        "        return input_gradient\n",
        "\n",
        "class Loss:\n",
        "    def __init__(self, loss_function:callable, loss_function_derivative:callable)->None:\n",
        "        self.loss_function = loss_function\n",
        "        self.loss_function_derivative = loss_function_derivative\n",
        "\n",
        "    def loss(self, x:np.ndarray, y)->np.ndarray:\n",
        "        \"\"\"Loss function for a particular x\"\"\"\n",
        "        expected = np.zeros(10)\n",
        "        expected[y] = 1\n",
        "\n",
        "        return np.mean((expected-x)**2)\n",
        "\n",
        "    @staticmethod\n",
        "    def loss_derivative(x:np.ndarray, y:np.ndarray)->np.ndarray:\n",
        "        \"\"\"Loss function derivative for a particular x and y\"\"\"\n",
        "        batch_size = x.shape[0]\n",
        "        expected = np.zeros((batch_size, 10))\n",
        "        for col_index, row_index in enumerate(y):\n",
        "            expected[int(col_index), int(row_index)] = 1\n",
        "\n",
        "        return 2 * (x - expected)\n",
        "\n",
        "class Network:\n",
        "    def __init__(self, layers:List[FullyConnected], learning_rate:float = 0.01)->None:\n",
        "        self.layers = layers\n",
        "        self.learning_rate = learning_rate\n",
        "        self.layers_Tanh:List[Tanh] = []\n",
        "\n",
        "    def __call__(self, x:np.ndarray) -> np.ndarray:\n",
        "        \"\"\"Forward propagation of x through all layers\"\"\"\n",
        "        xs = x\n",
        "        for index in range(len(self.layers)):\n",
        "            self.layers[index].learning_rate = self.learning_rate\n",
        "            xs = self.layers[index].forward(xs)\n",
        "            if index != len(self.layers)-1:\n",
        "                if len(self.layers_Tanh) == index:\n",
        "                    self.layers_Tanh.append(Tanh())\n",
        "                xs = self.layers_Tanh[index].forward(xs)\n",
        "        return xs\n",
        "\n",
        "    def fit(self,\n",
        "            x_train:np.ndarray,\n",
        "            y_train:np.ndarray,\n",
        "            epochs:int,\n",
        "            batch_size:int=8,\n",
        "            verbose:int=0)->None:\n",
        "        \"\"\"Fit the network to the training data\"\"\"\n",
        "        success_rates = []\n",
        "        for i in range(epochs):\n",
        "            if verbose:\n",
        "                if verbose == 1 and i%10==0 or verbose > 1:\n",
        "                    success = 0\n",
        "                    for x,y in zip(x_train[:1000], y_train[:1000]):\n",
        "                        if int(np.argmax(self(x))) == int(y):\n",
        "                            success+=1\n",
        "                    success_rates.append(success/1000)\n",
        "\n",
        "            for batch in range(0, x_train.shape[0], batch_size):\n",
        "                x_batch = x_train[batch:(batch+batch_size)]\n",
        "                y_batch = y_train[batch:(batch+batch_size)]\n",
        "                res = self(x_batch/100)\n",
        "                for index in range(len(self.layers)-1,-1,-1):\n",
        "                    if index == len(self.layers)-1:\n",
        "\n",
        "                        grad = Loss.loss_derivative(res, y_batch)\n",
        "                    else:\n",
        "                        grad = self.layers_Tanh[index].backward(grad)\n",
        "                    grad = self.layers[index].backward(grad)\n",
        "        return success_rates\n"
      ],
      "outputs": [],
      "execution_count": 2,
      "metadata": {
        "collapsed": false
      }
    },
    {
      "cell_type": "markdown",
      "source": [
        "# Eksperymenty"
      ],
      "metadata": {
        "collapsed": false
      }
    },
    {
      "cell_type": "code",
      "source": [
        "from sklearn.datasets import fetch_openml\n",
        "from sklearn.model_selection import train_test_split\n",
        "x_train, x_test, y_train, y_test = train_test_split(*fetch_openml(\n",
        "    \"mnist_784\", version=1, return_X_y=True, as_frame=False, parser='pandas'\n",
        "), test_size=0.1)"
      ],
      "outputs": [],
      "execution_count": 3,
      "metadata": {}
    },
    {
      "cell_type": "code",
      "source": [
        "neuron = Network([FullyConnected(784, 32), FullyConnected(32,10)], 0.003)\n",
        "neuron.fit(x_train, y_train, 10, 8)\n",
        "res = 0\n",
        "for x,y in zip(x_test, y_test):\n",
        "    if int(np.argmax(neuron(x))) == int(y):\n",
        "        res+=1\n",
        "\n",
        "print(res/y_test.shape[0])"
      ],
      "outputs": [
        {
          "output_type": "stream",
          "name": "stdout",
          "text": "0.8952857142857142\n"
        }
      ],
      "execution_count": 4,
      "metadata": {}
    },
    {
      "cell_type": "code",
      "source": [
        "neuron = Network([FullyConnected(784, 32), FullyConnected(32,10)], 0.001)\n",
        "success_rates = neuron.fit(x_train, y_train, 200, 32, 1)\n",
        "res = 0\n",
        "for x,y in zip(x_test, y_test):\n",
        "    if int(np.argmax(neuron(x))) == int(y):\n",
        "        res+=1\n",
        "\n",
        "for n, success in enumerate(success_rates):\n",
        "    print(f'{n*10}th epoch, success rate = {success*100:.3}%')"
      ],
      "outputs": [
        {
          "output_type": "stream",
          "name": "stdout",
          "text": "0th epoch, success rate = 8.4%\n10th epoch, success rate = 87.0%\n20th epoch, success rate = 88.8%\n30th epoch, success rate = 88.5%\n40th epoch, success rate = 90.1%\n50th epoch, success rate = 91.2%\n60th epoch, success rate = 90.5%\n70th epoch, success rate = 91.3%\n80th epoch, success rate = 90.9%\n90th epoch, success rate = 91.1%\n100th epoch, success rate = 91.8%\n110th epoch, success rate = 91.9%\n120th epoch, success rate = 92.1%\n130th epoch, success rate = 92.0%\n140th epoch, success rate = 92.1%\n150th epoch, success rate = 91.7%\n160th epoch, success rate = 92.6%\n170th epoch, success rate = 92.5%\n180th epoch, success rate = 92.6%\n190th epoch, success rate = 93.0%\n"
        }
      ],
      "execution_count": 64,
      "metadata": {}
    },
    {
      "cell_type": "markdown",
      "source": [
        "# 3 ukryte warstwy"
      ],
      "metadata": {}
    },
    {
      "cell_type": "code",
      "source": [
        "for n in range(5):\n",
        "    x_train, x_test, y_train, y_test = train_test_split(*fetch_openml(\n",
        "    \"mnist_784\", version=1, return_X_y=True, as_frame=False, parser='pandas'\n",
        "), test_size=0.1)\n",
        "    neuron = Network([FullyConnected(784, 128), FullyConnected(128, 64), FullyConnected(64, 32), FullyConnected(32,10)], 0.01)\n",
        "    neuron.fit(x_train, y_train, 10, 32)\n",
        "    res = 0\n",
        "    for x,y in zip(x_test, y_test):\n",
        "        if int(np.argmax(neuron(x))) == int(y):\n",
        "            res+=1\n",
        "\n",
        "    print(f'seed {n+1}, success rate = {res/len(y_test)*100:.3}%')"
      ],
      "outputs": [
        {
          "output_type": "stream",
          "name": "stdout",
          "text": "seed 1, success rate = 93.6%\nseed 2, success rate = 93.5%\nseed 3, success rate = 93.7%\nseed 4, success rate = 93.0%\nseed 5, success rate = 93.2%\n"
        }
      ],
      "execution_count": 8,
      "metadata": {}
    },
    {
      "cell_type": "markdown",
      "source": [
        "# 2 ukrtyte warstwy\n"
      ],
      "metadata": {}
    },
    {
      "cell_type": "code",
      "source": [
        "for n in range(5):\n",
        "    x_train, x_test, y_train, y_test = train_test_split(*fetch_openml(\n",
        "    \"mnist_784\", version=1, return_X_y=True, as_frame=False, parser='pandas'\n",
        "), test_size=0.1)\n",
        "    neuron = Network([FullyConnected(784, 64), FullyConnected(64, 32), FullyConnected(32,10)], 0.003)\n",
        "    neuron.fit(x_train, y_train, 10, 32)\n",
        "    res = 0\n",
        "    for x,y in zip(x_test, y_test):\n",
        "        if int(np.argmax(neuron(x))) == int(y):\n",
        "            res+=1\n",
        "\n",
        "    print(f'seed {n+1}, success rate = {res/len(y_test)*100:.3}%')"
      ],
      "outputs": [
        {
          "output_type": "stream",
          "name": "stdout",
          "text": "seed 1, success rate = 90.6%\nseed 2, success rate = 91.1%\nseed 3, success rate = 91.3%\nseed 4, success rate = 92.0%\nseed 5, success rate = 91.5%\n"
        }
      ],
      "execution_count": 88,
      "metadata": {}
    },
    {
      "cell_type": "markdown",
      "source": [
        "# 1 ukryta warstwa"
      ],
      "metadata": {}
    },
    {
      "cell_type": "code",
      "source": [
        "for n in range(5):\n",
        "    x_train, x_test, y_train, y_test = train_test_split(*fetch_openml(\n",
        "    \"mnist_784\", version=1, return_X_y=True, as_frame=False, parser='pandas'\n",
        "), test_size=0.1)\n",
        "    neuron = Network([FullyConnected(784, 32), FullyConnected(32,10)], 0.003)\n",
        "    neuron.fit(x_train, y_train, 10, 32)\n",
        "    res = 0\n",
        "    for x,y in zip(x_test, y_test):\n",
        "        if int(np.argmax(neuron(x))) == int(y):\n",
        "            res+=1\n",
        "\n",
        "    print(f'seed {n+1}, success rate = {res/len(y_test)*100:.3}%')"
      ],
      "outputs": [
        {
          "output_type": "stream",
          "name": "stdout",
          "text": "seed 1, success rate = 89.2%\nseed 2, success rate = 88.2%\nseed 3, success rate = 89.0%\nseed 4, success rate = 88.8%\nseed 5, success rate = 89.1%\n"
        }
      ],
      "execution_count": 87,
      "metadata": {}
    },
    {
      "cell_type": "markdown",
      "source": [
        "# bez ukrytych warstw"
      ],
      "metadata": {}
    },
    {
      "cell_type": "code",
      "source": [
        "for n in range(5):\n",
        "    x_train, x_test, y_train, y_test = train_test_split(*fetch_openml(\n",
        "    \"mnist_784\", version=1, return_X_y=True, as_frame=False, parser='pandas'\n",
        "), test_size=0.1)\n",
        "    neuron = Network([FullyConnected(784, 10)], 0.0001)\n",
        "    neuron.fit(x_train, y_train, 10, 8)\n",
        "    res = 0\n",
        "    for x,y in zip(x_test, y_test):\n",
        "        if int(np.argmax(neuron(x))) == int(y):\n",
        "            res+=1\n",
        "\n",
        "    print(f'seed {n+1}, success rate = {res/len(y_test)*100:.3}%')"
      ],
      "outputs": [
        {
          "output_type": "stream",
          "name": "stdout",
          "text": "seed 1, success rate = 82.6%\nseed 2, success rate = 82.6%\nseed 3, success rate = 83.4%\nseed 4, success rate = 82.2%\nseed 5, success rate = 82.6%\n"
        }
      ],
      "execution_count": 9,
      "metadata": {}
    },
    {
      "cell_type": "markdown",
      "source": [
        "# test dla różnych wag początkowych"
      ],
      "metadata": {}
    },
    {
      "cell_type": "code",
      "source": [
        "weights1 = np.random.rand(784, 16)\n",
        "weights2 = np.random.rand(16, 10)\n",
        "for n in range(1, 10):\n",
        "    neuron = Network([FullyConnected(784, 16, weights1.copy(), n), FullyConnected(16,10,weights2.copy(), n)], 0.003)\n",
        "    neuron.fit(x_train, y_train, 10, 32)\n",
        "    res = 0\n",
        "    for x,y in zip(x_test, y_test):\n",
        "        if int(np.argmax(neuron(x))) == int(y):\n",
        "            res+=1\n",
        "\n",
        "    print(f'random weights divided by {n}, success rate = {res/len(y_test)*100:.3}%')"
      ],
      "outputs": [
        {
          "output_type": "stream",
          "name": "stdout",
          "text": "random weights divided by 1, success rate = 71.4%\nrandom weights divided by 2, success rate = 82.7%\nrandom weights divided by 3, success rate = 84.5%\nrandom weights divided by 4, success rate = 84.4%\nrandom weights divided by 5, success rate = 84.5%\nrandom weights divided by 6, success rate = 86.7%\nrandom weights divided by 7, success rate = 84.2%\nrandom weights divided by 8, success rate = 87.0%\nrandom weights divided by 9, success rate = 84.9%\n"
        }
      ],
      "execution_count": 84,
      "metadata": {}
    },
    {
      "cell_type": "markdown",
      "source": [
        "# różne learning rate'y"
      ],
      "metadata": {}
    },
    {
      "cell_type": "code",
      "source": [
        "weights1 = np.random.rand(784, 16)\n",
        "weights2 = np.random.rand(16, 10)\n",
        "for n in range(1, 10):\n",
        "    neuron = Network([FullyConnected(784, 16, weights1.copy()), FullyConnected(16,10,weights2.copy())], 0.001*n)\n",
        "    neuron.fit(x_train, y_train, 10, 8)\n",
        "    res = 0\n",
        "    for x,y in zip(x_test, y_test):\n",
        "        if int(np.argmax(neuron(x))) == int(y):\n",
        "            res+=1\n",
        "\n",
        "    print(f'learning rate = {0.001*n:.3}, success rate = {res/len(y_test)*100:.3}%')"
      ],
      "outputs": [
        {
          "output_type": "stream",
          "name": "stdout",
          "text": "learning rate = 0.001, success rate = 83.7%\nlearning rate = 0.002, success rate = 83.7%\nlearning rate = 0.003, success rate = 85.4%\nlearning rate = 0.004, success rate = 82.9%\nlearning rate = 0.005, success rate = 82.7%\nlearning rate = 0.006, success rate = 80.3%\nlearning rate = 0.007, success rate = 75.3%\nlearning rate = 0.008, success rate = 83.1%\nlearning rate = 0.009, success rate = 79.5%\n"
        }
      ],
      "execution_count": 83,
      "metadata": {}
    },
    {
      "cell_type": "markdown",
      "source": [
        "# różne ilości w batchu"
      ],
      "metadata": {}
    },
    {
      "cell_type": "code",
      "source": [
        "batches = [2,3,4,8,16,32,64]\n",
        "success_rates = []\n",
        "times = []\n",
        "weights1 = np.random.rand(784, 32)\n",
        "weights2 = np.random.rand(32, 10)\n",
        "for n in batches:\n",
        "    start = time.time()\n",
        "    neuron = Network([FullyConnected(784, 32, weights1.copy()), FullyConnected(32,10,weights2.copy())], 0.001)\n",
        "    neuron.fit(x_train, y_train, 10, n)\n",
        "    stop = time.time()\n",
        "    res = 0\n",
        "    for x,y in zip(x_test, y_test):\n",
        "        if int(np.argmax(neuron(x))) == int(y):\n",
        "            res+=1\n",
        "\n",
        "    success_rates.append(res/len(y_test)*100)\n",
        "    times.append(stop-start)\n",
        "\n",
        "plt.subplot(2, 1, 1)\n",
        "plt.plot(batches, success_rates, marker='o', linestyle='-')\n",
        "plt.title('Success Rates Over Various mini-batch sizes')\n",
        "plt.xlabel('mini-batch size')\n",
        "plt.ylabel('Success Rate')\n",
        "plt.ylim(80, 93)  # Adjust the y-axis limits as needed\n",
        "plt.grid(True)\n",
        "\n",
        "# Create the second subplot (values over time)\n",
        "plt.subplot(2, 1, 2)\n",
        "plt.plot(batches, times, marker='o', linestyle='-', color='orange')\n",
        "plt.title('Times of fitting')\n",
        "plt.xlabel('mini-batch size')\n",
        "plt.ylabel('time')\n",
        "plt.grid(True)\n",
        "plt.subplots_adjust(hspace=1)\n",
        "plt.show()\n",
        "# Adjust layou"
      ],
      "outputs": [
        {
          "output_type": "display_data",
          "data": {
            "image/png": "[encoded data removed]",
            "text/plain": "<Figure size 640x480 with 2 Axes>"
          },
          "metadata": {}
        }
      ],
      "execution_count": 70,
      "metadata": {}
    }
  ],
  "metadata": {
    "kernelspec": {
      "display_name": "Python 3",
      "language": "python",
      "name": "python3"
    },
    "language_info": {
      "codemirror_mode": {
        "name": "ipython",
        "version": 3
      },
      "file_extension": ".py",
      "mimetype": "text/x-python",
      "name": "python",
      "nbconvert_exporter": "python",
      "pygments_lexer": "ipython3",
      "version": "3.11.0"
    },
    "nteract": {
      "version": "nteract-front-end@1.0.0"
    }
  },
  "nbformat": 4,
  "nbformat_minor": 0
}