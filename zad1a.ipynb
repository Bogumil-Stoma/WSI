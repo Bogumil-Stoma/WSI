{
  "cells": [
    {
      "cell_type": "markdown",
      "metadata": {
        "id": "88lxDms-saqt"
      },
      "source": [
        "#Zadanie 1a (3 pkt)\n",
        "Celem zadania jest rozwiązanie problemu plecakowego dwoma metodami - brute force oraz według zadanej heurystyki. Należy zaimplementować metody klasy *KnapSack* - *solve_knapsack_brute_force* oraz *solve_knapsack_pw_ratio*. Poprzez rozwiązanie problemu rozumiemy podanie które przedmioty (indeksy w tablicy) należy spakować do plecaka oraz jaka jest sumaryczna wartość i masa plecaka. Punktacja wygląda następująco:\n",
        "\n",
        "\n",
        "*   Rozwiązanie problemu metodą brute force. *Podpowiedź: do wygenerowania wszystkich permutacji można użyć funkcji product z biblioteki itertools* - **1.5 pkt**\n",
        "*   Rozwiązanie problemu według heurystyki - do plecaka pakujemy przedmioty według stosunku wartości do wagi - **1 pkt**\n",
        "*   Dla metody brute force proszę wygenerować wykres zależności czasu wykonywania metody od liczby elementów w tablicach *weights* i *profits* (do obu tablic należy stopniowo dopisywać po jednym elemencie, np. 10-krotnie, wartości elementów nie mają znaczenia). Proszę również odpowiedzieć na pytania (w osobnej komórce tekstowej) - czy obie metody mają takie same rozwiązania? Jakie są Pani / Pana wnioski? - **0.5 pkt**\n",
        "\n",
        "\n"
      ]
    },
    {
      "cell_type": "code",
      "execution_count": 3,
      "metadata": {
        "id": "1X0PiYKZ2w63"
      },
      "outputs": [],
      "source": [
        "import numpy as np\n",
        "import itertools\n",
        "import matplotlib.pyplot as plt\n",
        "import random\n",
        "import time"
      ]
    },
    {
      "cell_type": "code",
      "execution_count": 4,
      "metadata": {
        "id": "_IOCNGpCuy8s"
      },
      "outputs": [],
      "source": [
        "weights = np.array([8, 3, 5, 2])\n",
        "capacity = 9\n",
        "profits = np.array([16, 8, 9, 6])"
      ]
    },
    {
      "cell_type": "code",
      "execution_count": 5,
      "metadata": {
        "id": "s5J82x9WuSOh"
      },
      "outputs": [],
      "source": [
        "class KnapSack:\n",
        "  def __init__(self, profits, weights, capacity):\n",
        "    self.profits = profits\n",
        "    self.weights = weights\n",
        "    self.capacity = capacity\n",
        "\n",
        "  def solve_knapsack_brute_force(self):\n",
        "    max_profit = 0\n",
        "    max_weights = []\n",
        "    max_profits = []\n",
        "    for i in range(1, len(self.weights)):\n",
        "      weights_c = itertools.combinations(self.weights, i)\n",
        "      profits_c = itertools.combinations(self.profits, i)\n",
        "      for w, p in zip(weights_c, profits_c):\n",
        "        if sum(w) <= self.capacity:\n",
        "          profit = sum(p)\n",
        "          if profit> max_profit:\n",
        "            max_profit = profit\n",
        "            max_weights = list(w)\n",
        "            max_profits = list(p)\n",
        "\n",
        "    return (max_weights, max_profits)\n",
        "\n",
        "  def solve_knapsack_pw_ratio(self):\n",
        "    ratios = profits/weights\n",
        "    max_weights = []\n",
        "    max_profits = []\n",
        "    zipped_lists = sorted(zip(ratios, weights, profits), reverse = True)\n",
        "    common_weight = 0\n",
        "    for r, w, p in zipped_lists:\n",
        "      if common_weight + w < capacity:\n",
        "        common_weight += w\n",
        "        max_weights.append(w)\n",
        "        max_profits.append(p)\n",
        "    return (max_weights, max_profits)"
      ]
    },
    {
      "cell_type": "markdown",
      "metadata": {
        "id": "p99UGBtGxtR3"
      },
      "source": []
    },
    {
      "cell_type": "code",
      "execution_count": 11,
      "metadata": {
        "colab": {
          "base_uri": "https://localhost:8080/"
        },
        "id": "9Saz7An6u9I-",
        "outputId": "334e17cc-541e-4eb8-d6e4-a3fac2084177"
      },
      "outputs": [
        {
          "name": "stdout",
          "output_type": "stream",
          "text": [
            "przedmiot 1, waga = 3, profit = 8\n",
            "przedmiot 2, waga = 5, profit = 9\n"
          ]
        }
      ],
      "source": [
        "backpack = KnapSack(profits, weights, capacity)\n",
        "w,p = backpack.solve_knapsack_brute_force()\n",
        "\n",
        "i = 1\n",
        "for waga, profit in zip(w,p):\n",
        "    print(f'przedmiot {i}, waga = {waga}, profit = {profit}')\n",
        "    i+=1"
      ]
    },
    {
      "cell_type": "code",
      "execution_count": 13,
      "metadata": {
        "colab": {
          "base_uri": "https://localhost:8080/"
        },
        "id": "5PpYdTt-ylWr",
        "outputId": "0db0da3b-37e7-4c31-cf02-7953d97146f8"
      },
      "outputs": [
        {
          "name": "stdout",
          "output_type": "stream",
          "text": [
            "przedmiot 1, waga = 2, profit = 6\n",
            "przedmiot 2, waga = 3, profit = 8\n"
          ]
        }
      ],
      "source": [
        "w,p = backpack.solve_knapsack_pw_ratio()\n",
        "\n",
        "i = 1\n",
        "for waga, profit in zip(w,p):\n",
        "    print(f'przedmiot {i}, waga = {waga}, profit = {profit}')\n",
        "    i+=1"
      ]
    },
    {
      "cell_type": "markdown",
      "metadata": {
        "id": "0YYcOVFaqg_y"
      },
      "source": [
        "##Wykres zależności od czasu dla metody brute force"
      ]
    },
    {
      "cell_type": "code",
      "execution_count": 8,
      "metadata": {
        "id": "q6EsRLcFqwvw"
      },
      "outputs": [],
      "source": [
        "REPS = 25\n",
        "random_weights = list(range(REPS))\n",
        "random_profits = list(range(REPS))\n",
        "random.shuffle(random_weights)\n",
        "random.shuffle(random_profits)\n",
        "execution_times = list()\n",
        "\n",
        "for i in range(len(random_weights)):\n",
        "  random_backpack = KnapSack(random_profits[:i], random_weights[:i],\n",
        "                             random.randint(5, 20))\n",
        "  start = time.time()\n",
        "  random_backpack.solve_knapsack_brute_force()\n",
        "  end = time.time()\n",
        "  execution_times.append(end-start)\n",
        "\n",
        "\n"
      ]
    },
    {
      "cell_type": "code",
      "execution_count": 9,
      "metadata": {
        "colab": {
          "base_uri": "https://localhost:8080/",
          "height": 472
        },
        "id": "RzyE666i-EWo",
        "outputId": "0ef0c0c7-a4f2-4f07-c2f8-790933cf6c10"
      },
      "outputs": [
        {
          "data": {
            "image/png": "[encoded data removed]",
            "text/plain": [
              "<Figure size 640x480 with 1 Axes>"
            ]
          },
          "metadata": {},
          "output_type": "display_data"
        }
      ],
      "source": [
        "fig, ax = plt.subplots()\n",
        "ax.plot(np.arange(REPS), execution_times)\n",
        "\n",
        "ax.set(xlabel='number of items in knapsack', ylabel='time [s]',\n",
        "       title='Brute forcing through knapsack problem')\n",
        "\n",
        "plt.show()"
      ]
    },
    {
      "cell_type": "markdown",
      "metadata": {
        "id": "uBtKizGCAtpi"
      },
      "source": [
        "##Wnioski\n",
        "Metoda typu brute force jest skuteczna, ponieważ sprawdza każdy możliwy przypadek, natomiast wiąże się do z dużymi kosztami bo złożoność obliczeniowa wynosi O(2^n) i już przy 25 przedmiotach program potrzebuje około 7 s na wykonanie się.\n",
        "\n",
        "Podana heurestyka nie daje optymalnych wyników. Owszem złożoność obliczeniowa jest znacznie lepsza, ale do plecaka zostają natychmiast wkładane przedmioty o najwyższym wskaźniku koszt/waga więc rezultaty rzadko będą optymalne."
      ]
    }
  ],
  "metadata": {
    "colab": {
      "provenance": []
    },
    "kernelspec": {
      "display_name": "Python 3",
      "name": "python3"
    },
    "language_info": {
      "codemirror_mode": {
        "name": "ipython",
        "version": 3
      },
      "file_extension": ".py",
      "mimetype": "text/x-python",
      "name": "python",
      "nbconvert_exporter": "python",
      "pygments_lexer": "ipython3",
      "version": "3.11.0"
    },
    "nteract": {
      "version": "nteract-front-end@1.0.0"
    }
  },
  "nbformat": 4,
  "nbformat_minor": 0
}
